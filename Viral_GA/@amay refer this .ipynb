{
 "cells": [
  {
   "cell_type": "markdown",
   "metadata": {},
   "source": [
    "### main problems to tackel\n",
    "\n",
    "> Problem of scaleability to more number of objectives, which arises due there not being sufficiently big perito optimum\n",
    ">> how to tackel it ? ___  by using some other generalized definiation of dominance and being better than other solution\n",
    "\n",
    "> To ensure sufficient diversity in OBJECTIVE and DECISION VARIABLE spaces\n",
    "\n",
    "> To be computationaly feasable for large number of objectives and decision varable space\n",
    "\n",
    "> To ensure search locally and globally\n"
   ]
  },
  {
   "cell_type": "markdown",
   "metadata": {},
   "source": [
    "## General sequence\n",
    "* `Decide Timeline` :: arhitecture \n",
    "    * timeline will affect the mutation & crossover types and make them as per it \n",
    "\n",
    "\n",
    "\n",
    "* `Generate ppl` :: solution package virus module\n",
    "  * parameters to generate the ppl on\n",
    "    * range of each dimension\n",
    "    * destribution of number of soln in each dimension\n",
    "  * how to generate a solution\n",
    "    * range of each dimension\n",
    "    * relation among different parameters of soln\n",
    "  * size of ppl \n",
    "\n",
    "\n",
    "* `Generate child set` :: solution package \n",
    "  * how to generate child and its parameters \n",
    "  * how many child for each soln :: maybe diferent for each soln\n",
    "  * how many child of each parent survive :: on what basis\n",
    "  * add them to child set\n",
    "  * refine the child set\n",
    "  \n",
    "  \n",
    "  \n",
    "* `Generate cossover set` :: solution package\n",
    "\n",
    "  * how to do crossover\n",
    "  * how many will be involved in each crossover\n",
    "  * how many new will be result of each crossover\n",
    "  * how to choose some from them\n",
    "  * add them to crossover set\n",
    "  * refine the crossover set\n",
    "  \n",
    "  \n",
    "\n",
    "* `Calculate the statistics of all the sets` :: archi package\n",
    "  * baised on the statistics calculate the \"trigger limit\" for each trigger parameter\n",
    "  * and also calculate the triggers baised on the statistics\n",
    "  \n",
    "  \n",
    "  \n",
    "* `Decide which type of Mutation to do baised on if trigger limit is exceeded along with timeline` :: archi package\n",
    "  * run that type of mutation\n",
    "  \n",
    "  \n",
    "* `Decide which type of Selection to do ` :: archi package\n",
    "  * run that type of selection\n",
    "  \n",
    "  \n",
    "* `Repeat form generating child for required genertions`"
   ]
  },
  {
   "cell_type": "markdown",
   "metadata": {},
   "source": [
    "### solutions are represented as\n",
    "\n",
    "$X$  = ( $X_d$ , $G_d$ , $G_o$ , $F_x$)\n",
    "\n",
    "* $X_d \\hspace{1mm}$ is the representation of this solution in decision variable space\n",
    "* $G_d \\hspace{1mm}$ is the unit gradient in decision variable space which decide the direction in which the center is located\n",
    "* $\\epsilon \\hspace{1mm}$ is user defined parameter\n",
    "* $G_o \\hspace{1mm}$ is the respective gradient in objective space when changed by $G_d$\n",
    "> i.e. $G_o = \\frac{F( X_d +\\epsilon*G_d ) - F( X_d )}{\\epsilon}$ , $F(*)$ is the objective vector function\n",
    "* $F_x$ is objective function vector of $X$"
   ]
  },
  {
   "cell_type": "markdown",
   "metadata": {},
   "source": [
    "### How to generate child of a solution\n",
    "\n",
    "$child(X)$ = $C^X$ = ( $C_d^X$ , $GC_d^X$ , $GC_o^X$ , $F_{C^X}$ ) \n",
    "\n",
    "> $C_d^X$ = $X_d$ + $G_d*\\epsilon$ + $u *r*\\epsilon $\n",
    "* $u = random\\_unit\\_vector()$  \n",
    "  + this random vector must account differently for each child as to ensure we are searching all orthogonal direction in objective space, hence number of such child depends on the dimension of the objective space\n",
    "* $r =random([0,1])$\n",
    "\n",
    "> $GC_d^X$ = $ unit\\_vec( \\lambda * G_d$ +$(1-\\lambda)*\\frac{ G_d + u*r}{|| G_d+ u*r ||_2})$\n",
    "* $\\lambda$ is the decay parameter $\\in (0,1)$\n",
    "* $||V||_2$ is $L_2$ norm of $V$ \n",
    "\n",
    ">  $GC_o^X = \\frac{F( C_d^X +\\epsilon*GC_d^X ) - F( C_d^X )}{\\epsilon}$\n",
    "* Same as for $X$\n",
    "\n",
    "> $F_{C^X}$ is function objective vector of $C^X$"
   ]
  },
  {
   "cell_type": "markdown",
   "metadata": {},
   "source": [
    "### How to do crossover of 2 solutions\n",
    "\n",
    "`Crossover basically operates on 2 main parameters of a solution other 2 are derived from this 2 main parts `\n",
    "> 1.  ( $X_d$ , $GX_d$ ) :: ( $Y_d$, $GY_d$ ) = ( $XY_d$, $GXY_d$ ) , represents crossover of $X$ and $Y$\n",
    "*  each of $XY_d$ and $GXY_d$ are function of $X_d$ , $GX_d$ , $Y_d$ & $GY_d$\n",
    "\n",
    "> $XY_d$ = $c_{xy}$*$X_d$+$(1-c_{xy})$*$Y_d$\n",
    "\n",
    "> $GXY_d$ = norm(  $c_{xy}$*$GX_d$+$(1-c_{xy})$*$GY_d$    )\n",
    "\n",
    "* $c_{xy}$ can either be $1/2$ for all times over all dimensions\n",
    "* Or depend on X & Y if X has better decision fitness than Y, then $c_{xy}$ > $1/2$ in that dimension of decision space\n",
    "* any function baised on fitness of each dimention in decision space\n",
    "    * $c_{xy} = $ $\\frac{Fitness(X)}{Fitness(X)+Fitness(Y)}$\n",
    "    * $c_{xy} = $ $\\frac{e^{Fitness(X)}}{e^{Fitness(Y)}+e^{Fitness(X)}}$\n",
    "    * implemented with 1/2\n",
    "    "
   ]
  },
  {
   "cell_type": "markdown",
   "metadata": {},
   "source": [
    "## How to do selection\n",
    "\n",
    "1. sort the 3 sets of solutions // sort baised on how many objectives does one solution dominates the other\n",
    "    * ppl\n",
    "    * child\n",
    "    * crossover\n",
    "2. select some proportion from them (this will be baised on the triggers, which will be determined by the timeline & stats of solution\n",
    "3. add the selected child set & crossover set to ppl set to get new ppl set\n"
   ]
  },
  {
   "cell_type": "code",
   "execution_count": 43,
   "metadata": {},
   "outputs": [
    {
     "name": "stdout",
     "output_type": "stream",
     "text": [
      "e.g\n",
      "\n",
      "ppl =[3,0,1,2,6]\n",
      "ppl sorted = [0,1,2,3,6]\n",
      "seleted = [0,1,2]\n",
      "child =[36,446,4446,545]\n",
      "child sorted = [36,446,545,4446]\n",
      "selected = [36]\n",
      "crossover = [2,4,56,-1]\n",
      "crossover sorted = [-1,2,4,56]\n",
      "selected = [-1,2,4]\n",
      "\n",
      "ppl_new = [0,1,2,36,-1,2,4]\n"
     ]
    }
   ],
   "source": [
    "print(\"\"\"e.g\n",
    "\n",
    "ppl =[3,0,1,2,6]\n",
    "ppl sorted = [0,1,2,3,6]\n",
    "seleted = [0,1,2]\n",
    "child =[36,446,4446,545]\n",
    "child sorted = [36,446,545,4446]\n",
    "selected = [36]\n",
    "crossover = [2,4,56,-1]\n",
    "crossover sorted = [-1,2,4,56]\n",
    "selected = [-1,2,4]\n",
    "\n",
    "ppl_new = [0,1,2,36,-1,2,4]\"\"\")"
   ]
  },
  {
   "cell_type": "code",
   "execution_count": 31,
   "metadata": {},
   "outputs": [],
   "source": [
    "import matplotlib.pyplot as plt\n",
    "import numpy as np"
   ]
  },
  {
   "cell_type": "code",
   "execution_count": 242,
   "metadata": {},
   "outputs": [],
   "source": [
    "def objective(X):\n",
    "    n = X.shape[0]\n",
    "    # n = 2 \n",
    "    m = 2\n",
    "    \n",
    "    F = np.zeros((m,1))\n",
    "    \n",
    "    ## objective functions to maximize\n",
    "    F[0] = X[0]**2 + 10*X[1]**2\n",
    "    F[1] = 6*X[0]/(3*X[0]+X[1]**2)\n",
    "    #F[2] = X[0]*X[1]+X[0]/(X[1]+4)\n",
    "    \n",
    "    return F"
   ]
  },
  {
   "cell_type": "markdown",
   "metadata": {},
   "source": [
    "## Generates a random solution in specified range, which is specified by limit"
   ]
  },
  {
   "cell_type": "code",
   "execution_count": 243,
   "metadata": {},
   "outputs": [],
   "source": [
    "def generate_solution(dims,limits):\n",
    "    \n",
    "    x=[]\n",
    "    g=[]\n",
    "    for i in range(dims[0]):\n",
    "        x.append(np.random.uniform(limits['min'][i],limits['max'][i]))\n",
    "        g.append(np.random.uniform(-1,1))\n",
    "    \n",
    "    x = np.reshape(np.array(x),dims)\n",
    "    g = np.reshape(np.array(g),dims)\n",
    "    mod = np.sqrt(g.T.dot(g))\n",
    "    g/=mod\n",
    "    \n",
    "    return {\"Xd\":x,\"Gd\":g,\"Go\":None,\"F\":None}"
   ]
  },
  {
   "cell_type": "markdown",
   "metadata": {},
   "source": [
    "## Calculates change in each objective function $G_o$  when changed $X_d$ by $\\epsilon*G_d$\n",
    "\n",
    "* requires $X_d$, $G_d$ , $\\epsilon$ and $F$ "
   ]
  },
  {
   "cell_type": "code",
   "execution_count": 244,
   "metadata": {},
   "outputs": [],
   "source": [
    "# returns G_o, input X = (Xd, Gd, ?, F)\n",
    "\n",
    "def gradiant(X,epsilon):\n",
    "    G = (objective(X['Xd']+epsilon*X['Gd']) - X['F'])/epsilon\n",
    "    return G"
   ]
  },
  {
   "cell_type": "code",
   "execution_count": 245,
   "metadata": {},
   "outputs": [],
   "source": [
    "x=generate_solution((2,1),limits={\"min\":[0,0],\"max\":[2,2]})\n",
    "x[\"F\"]=objective(x[\"Xd\"])\n",
    "x[\"Go\"]=gradiant(x,0.01)"
   ]
  },
  {
   "cell_type": "code",
   "execution_count": 246,
   "metadata": {},
   "outputs": [
    {
     "data": {
      "text/plain": [
       "array([[0.19139053],\n",
       "       [1.73036746]])"
      ]
     },
     "execution_count": 246,
     "metadata": {},
     "output_type": "execute_result"
    }
   ],
   "source": [
    "x[\"Xd\"]"
   ]
  },
  {
   "cell_type": "markdown",
   "metadata": {},
   "source": [
    "## Below is Child generating function"
   ]
  },
  {
   "cell_type": "code",
   "execution_count": 247,
   "metadata": {},
   "outputs": [],
   "source": [
    "def childs(x,count=1,epsilon = 0.01 ,lamb = 0.3 ,grad_epsilon = 0.001):\n",
    "    child = []\n",
    "    shape = x['Xd'].shape\n",
    "    \n",
    "    while count > 0:\n",
    "        c = {}\n",
    "        \n",
    "        u = np.random.uniform(-1,1,shape)                          # uniform random vector\n",
    "        mod = np.sqrt(u.T.dot(u))                                  # l_2 norm of this vector \n",
    "        u/=mod                                                     # converting to unit vector\n",
    "        r = np.random.rand()                                       # random number from (0,1)\n",
    "                      \n",
    "        c['Xd'] =  x['Xd'] + epsilon*x['Gd'] + 2*epsilon*r*u\n",
    "                    \n",
    "                      \n",
    "        u = 2*u*r + x['Gd']\n",
    "        mod = np.sqrt(u.T.dot(u))                                  # l_2 norm of this vector \n",
    "        u/=mod                                                     # converting to unit vector       \n",
    "        u = lamb*x['Gd'] + (1-lamb)*u\n",
    "        mod = np.sqrt(u.T.dot(u))                                  # l_2 norm of this vector \n",
    "        u/=mod                                                     # converting to unit vector\n",
    "        \n",
    "        c['Gd'] = u\n",
    "                      \n",
    "        c['F'] = objective(c[\"Xd\"])   \n",
    "        c['Go'] = gradiant(x,grad_epsilon)\n",
    "        \n",
    "        child.append(c)\n",
    "        count -=1\n",
    "                      \n",
    "    return child"
   ]
  },
  {
   "cell_type": "code",
   "execution_count": 248,
   "metadata": {},
   "outputs": [],
   "source": [
    "c=childs(x,10)"
   ]
  },
  {
   "cell_type": "code",
   "execution_count": 261,
   "metadata": {},
   "outputs": [
    {
     "data": {
      "text/plain": [
       "array([[29.08946042],\n",
       "       [ 0.3276587 ]])"
      ]
     },
     "execution_count": 261,
     "metadata": {},
     "output_type": "execute_result"
    }
   ],
   "source": [
    "c[9]['F']"
   ]
  },
  {
   "cell_type": "code",
   "execution_count": 263,
   "metadata": {},
   "outputs": [],
   "source": [
    "# testing the sorting function\n",
    "s=p_sort(c)"
   ]
  },
  {
   "cell_type": "code",
   "execution_count": 264,
   "metadata": {},
   "outputs": [
    {
     "data": {
      "text/plain": [
       "array([[30.23686827],\n",
       "       [ 0.32663577]])"
      ]
     },
     "execution_count": 264,
     "metadata": {},
     "output_type": "execute_result"
    }
   ],
   "source": [
    "s[5]['F']"
   ]
  },
  {
   "cell_type": "markdown",
   "metadata": {},
   "source": [
    "## Below is dominance and sorting function"
   ]
  },
  {
   "cell_type": "code",
   "execution_count": 231,
   "metadata": {},
   "outputs": [],
   "source": [
    "# k-perito dominance, a dominates b if k of the a's objective are atlest as good as b\n",
    "\n",
    "def compare(a,b,k=None):\n",
    "    \n",
    "    # counts how many times a domainates b in objective function value\n",
    "    if k is None:\n",
    "        k = len(a['F'])//2\n",
    "        \n",
    "    scount,ecount,ndcount = 0,0,0\n",
    "    for i in range(len(a['F'])):\n",
    "        \n",
    "        if a['F'][i] > b['F'][i]:\n",
    "            scount+=1\n",
    "        if a['F'][i] == b['F'][i]:\n",
    "            ecount+=1\n",
    "        if a['F'][i] < b['F'][i]:\n",
    "            ndcount+=1\n",
    "            \n",
    "    # counts how good is gradient of each higher and positive the gradient better the gradiend in objective space\n",
    "    # note the implementation below doesnot account for the sizes of the change which may be important\n",
    "    gscount,gecount,gndcount = 0,0,0\n",
    "    for i in range(len(a['Go'])):\n",
    "        \n",
    "        if a['Go'][i] > b['Go'][i]:\n",
    "            gscount+=1\n",
    "        if a['Go'][i] == b['Go'][i]:\n",
    "            gecount+=1\n",
    "        if a['Go'][i] < b['Go'][i]:\n",
    "            gndcount+=1\n",
    "    \n",
    "    ## below we decide how to decide which one is optimal baised on above metrics\n",
    "    ## below is very simple example which accounts only for objective value\n",
    "    \n",
    "    if scount + ecount >= k:\n",
    "        return 1\n",
    "    else:\n",
    "        return -1\n",
    "    \n",
    "    \n",
    "    \n",
    "# main sorting happens here\n",
    "# takes input as a list\n",
    "# returns the list in assending order of better solution later the solution better it is\n",
    "# uses Tim Sort in O(nlog(n)) worst case\n",
    "\n",
    "def p_sort(ppl):\n",
    "    return sorted(ppl, key=functools.cmp_to_key(compare))"
   ]
  },
  {
   "cell_type": "code",
   "execution_count": 7,
   "metadata": {},
   "outputs": [],
   "source": [
    "class VGA:\n",
    "    \n",
    "    def __init__(self,get_ppl,ppl_parameters,fitness,sort_ppl,get_childs,get_child_params,mutate,crossover,to_trigger):\n",
    "    \n",
    "            \n",
    "        \"\"\"\"this set of functions are just involved in population operations which \n",
    "         derive some parameters/statistics of population and can generate the population \"\"\"\n",
    "        \n",
    "        # returns the ppl with supplied parameters\n",
    "        self.get_ppl = get_ppl\n",
    "        \n",
    "        # returns child of an individual on baisis of supplied parameters\n",
    "        self.get_child_ppl = get_child_ppl\n",
    "        \n",
    "        # returns child_ppl parameters given ( ppl parametrs , ppl stats , ppl itself )\n",
    "        self.get_child_params = get_child_params\n",
    "        \n",
    "        # calculates and returns the ppl stats in a dictionary\n",
    "        self.ppl_stat = ppl_stat \n",
    "        \n",
    "        # returns fitness of the ppl \n",
    "        self.fitness =  fitness\n",
    "        \n",
    "        # decides if to trigger a perticular process of not\n",
    "        # has types like type = \"strong_selection\" , \"selective crossover\" , \"selective mutation\" ....\n",
    "        self.to_trigger = to_trigger\n",
    "        \n",
    "        # types of crossover\n",
    "        # return crossoverd ppl set\n",
    "        self.random_crossover = random_crossover\n",
    "        self.selective_crossover = selective_crossover\n",
    "        \n",
    "        self.sort_ppl = sort_ppl\n",
    "        \n",
    "        # types of selection\n",
    "        # returns the selected ppl for next generation baised on the ( stats of ppl, parameters, crossover set, child set )\n",
    "        self.strong_select = strong_select\n",
    "        self.weak_select = weak_select\n",
    "        \n",
    "        # types of mutation\n",
    "        # mutates the population in place (returns nothing)\n",
    "        self.random_mutate = random_mutate\n",
    "        self.selective_mutate = selective_mutate\n",
    "        \n",
    "    \n",
    "    def run"
   ]
  },
  {
   "cell_type": "code",
   "execution_count": null,
   "metadata": {},
   "outputs": [],
   "source": []
  },
  {
   "cell_type": "code",
   "execution_count": null,
   "metadata": {},
   "outputs": [],
   "source": []
  },
  {
   "cell_type": "code",
   "execution_count": null,
   "metadata": {},
   "outputs": [],
   "source": []
  },
  {
   "cell_type": "markdown",
   "metadata": {},
   "source": [
    "# useless codes below"
   ]
  },
  {
   "cell_type": "code",
   "execution_count": 12,
   "metadata": {},
   "outputs": [
    {
     "data": {
      "text/plain": [
       "'def merge(p1,p2,f):\\n    l=[]\\n    n,m = len(p1)-1,len(p2)-1\\n    \\n    while n >= 0 and m >= 0:\\n        if f(p1[n],p2[m]) == 1:\\n            l.append(p1[n])\\n            n-=1\\n        else:\\n            l.append(p2[m])\\n            m-=1\\n            \\n    while n >=0 :\\n        l.append(p1[n])\\n        n-=1\\n    \\n    while m >=0 :\\n        l.append(p2[m])\\n        m-=1\\n    \\n    return l\\n\\ndef merge_perito_sorting(P,f):\\n    n = len(P)//2\\n    p1 = merge_perito_sorting(P[:n],f=f)\\n    p2 = merge_perito_sorting(P[n:],f=f)\\n    P = merge(p1,p2,f=f)\\n    return P'"
      ]
     },
     "execution_count": 12,
     "metadata": {},
     "output_type": "execute_result"
    }
   ],
   "source": [
    "def merge(p1,p2,f):\n",
    "    l=[]\n",
    "    n,m = len(p1)-1,len(p2)-1\n",
    "    \n",
    "    while n >= 0 and m >= 0:\n",
    "        if f(p1[n],p2[m]) == 1:\n",
    "            l.append(p1[n])\n",
    "            n-=1\n",
    "        else:\n",
    "            l.append(p2[m])\n",
    "            m-=1\n",
    "            \n",
    "    while n >=0 :\n",
    "        l.append(p1[n])\n",
    "        n-=1\n",
    "    \n",
    "    while m >=0 :\n",
    "        l.append(p2[m])\n",
    "        m-=1\n",
    "    \n",
    "    return l\n",
    "\n",
    "def merge_perito_sorting(P,f):\n",
    "    n = len(P)//2\n",
    "    p1 = merge_perito_sorting(P[:n],f=f)\n",
    "    p2 = merge_perito_sorting(P[n:],f=f)\n",
    "    P = merge(p1,p2,f=f)\n",
    "    return P"
   ]
  },
  {
   "cell_type": "code",
   "execution_count": 19,
   "metadata": {},
   "outputs": [],
   "source": [
    "# example for sorting\n",
    "## returns the fitness\n",
    "import functools\n",
    "\n",
    "def fitness(x):\n",
    "     return x\n",
    "\n",
    "## returns 1 if a is better than b , 0 if same and -1 is worse\n",
    "def compare(a, b):\n",
    "    if fitness(a) > fitness(b):\n",
    "        return -1\n",
    "    if fitness(a) == fitness(b):\n",
    "        return 0\n",
    "    return 1\n",
    "\n",
    "l=[1,2,3,4,5,0.8,6]\n",
    "\n",
    "# sorts in assending order of fitness\n",
    "s=sorted(l, key=functools.cmp_to_key(compare))"
   ]
  },
  {
   "cell_type": "code",
   "execution_count": 20,
   "metadata": {},
   "outputs": [
    {
     "data": {
      "text/plain": [
       "[6, 5, 4, 3, 2, 1, 0.8]"
      ]
     },
     "execution_count": 20,
     "metadata": {},
     "output_type": "execute_result"
    }
   ],
   "source": [
    "s"
   ]
  },
  {
   "cell_type": "code",
   "execution_count": 21,
   "metadata": {},
   "outputs": [
    {
     "data": {
      "text/plain": [
       "-1"
      ]
     },
     "execution_count": 21,
     "metadata": {},
     "output_type": "execute_result"
    }
   ],
   "source": [
    "compare(4,3)"
   ]
  }
 ],
 "metadata": {
  "kernelspec": {
   "display_name": "Python 3",
   "language": "python",
   "name": "python3"
  },
  "language_info": {
   "codemirror_mode": {
    "name": "ipython",
    "version": 3
   },
   "file_extension": ".py",
   "mimetype": "text/x-python",
   "name": "python",
   "nbconvert_exporter": "python",
   "pygments_lexer": "ipython3",
   "version": "3.7.7"
  }
 },
 "nbformat": 4,
 "nbformat_minor": 2
}
