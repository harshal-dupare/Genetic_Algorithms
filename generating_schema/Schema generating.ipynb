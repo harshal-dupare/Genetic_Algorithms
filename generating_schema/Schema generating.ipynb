{
 "cells": [
  {
   "cell_type": "markdown",
   "metadata": {},
   "source": [
    "> Build a class to have all the schemas for a perticular graph problem\n",
    ">> allow function like\n",
    ">>> 1. generate ppl which represent the walks of some lengths \n",
    ">>> 2. mutate this populations // \n",
    ">>> 3. crossover this polulation // needs to be specific justifying why this preservs the best ones\n",
    ">>> 4. select form this population // need to select until hit some number and then do selection \n",
    ">>> 5. at end we will have population which will represent set of optimal pats from which we can create new combinations of path"
   ]
  },
  {
   "cell_type": "code",
   "execution_count": 1,
   "metadata": {},
   "outputs": [],
   "source": [
    "import numpy as np\n",
    "#import networkx as nx\n",
    "import itertools as itr\n",
    "import time"
   ]
  },
  {
   "cell_type": "code",
   "execution_count": 286,
   "metadata": {},
   "outputs": [],
   "source": [
    "class TSP_fullyconnected:\n",
    "    \n",
    "    \n",
    "    # parameters on graphs on which TSP is done\n",
    "    # none other parameters which are not of graph\n",
    "    def graph(self,W):\n",
    "        self.n=W.shape[0]\n",
    "        self.W=W\n",
    "        \n",
    "        \n",
    "    \n",
    "    # function to get a schema of a desired length\n",
    "    def get_schema(self,length):\n",
    "        \n",
    "        n=self.n\n",
    "        d=np.arange(n)\n",
    "        s=[]\n",
    "        \n",
    "        for i in range(length):\n",
    "            \n",
    "            k=np.random.randint(n)\n",
    "            s.append(int(d[k]))\n",
    "            d[k],d[n-1]=d[n-1],d[k]\n",
    "            n-=1\n",
    "            \n",
    "        return s\n",
    "    \n",
    "    \n",
    "    \n",
    "    \n",
    "    # returns the population of schema with fixed length and size\n",
    "    def gen_ppl(self,size,length):\n",
    "        \n",
    "        ppl=[]\n",
    "        limit = 100000\n",
    "        i=size\n",
    "        \n",
    "        # warning to inform that limit number of schemas have been exceeded\n",
    "        if size > limit:\n",
    "            print(\"Warning : Limit Exceeded\")\n",
    "            \n",
    "        while i > 0 and limit > 0:\n",
    "            s=self.get_schema(length)\n",
    "            if s not in ppl:\n",
    "                ppl.append(s)\n",
    "                i-=1\n",
    "            limit-=1\n",
    "            \n",
    "        return ppl\n",
    "    \n",
    "    \n",
    "    \n",
    "    \n",
    "    def fitness_funct(self,s):\n",
    "        \n",
    "        n=len(s)\n",
    "\n",
    "        #fitness function\n",
    "        w=0\n",
    "        for i in range(n-1): \n",
    "            w+=1/(1+self.W[s[i]][s[i+1]])\n",
    "        w/=n\n",
    "        \n",
    "        return w\n",
    "    \n",
    "    \n",
    "    \n",
    "    # default fitness function\n",
    "    def eval_fitness(self,ppl,fitness=None):\n",
    "        fit=[]\n",
    "        for s in ppl:\n",
    "            n=len(s)\n",
    "            \n",
    "            if fitness == None:\n",
    "                #fitness function\n",
    "                w=0\n",
    "                for i in range(n-1): \n",
    "                    w+=1/(1+self.W[s[i]][s[i+1]])\n",
    "                w/=n\n",
    "            else:\n",
    "                w = fitness(s)\n",
    "                \n",
    "            fit.append(w)\n",
    "            \n",
    "        return fit\n",
    "        \n",
    "    \n",
    "    \n",
    "    \n",
    "    \n",
    "    \n",
    "    def mutate(self,ppl,m_rate):\n",
    "        length=len(ppl[0])\n",
    "        for s in range(len(ppl)):\n",
    "                \n",
    "            if np.random.rand() < m_rate:\n",
    "            \n",
    "                k = np.random.randint(length)\n",
    "                r = list(set(np.arange(self.n))-set(ppl[s]))\n",
    "                l = len(r)\n",
    "                 \n",
    "                if l > 0:\n",
    "                    j = np.random.randint(l)\n",
    "                    ppl[s][k]=r[j]\n",
    "                \n",
    "                \n",
    "                \n",
    "                \n",
    "                \n",
    "    # what proportion of them do crossover as c_rate\n",
    "    def crossover(self,ppl,c_rate):\n",
    "        length=len(ppl[0])\n",
    "        fitness = np.array(self.eval_fitness(ppl))\n",
    "        \n",
    "        # pick random 2 from ppl\n",
    "        # for roulet wheel crossover\n",
    "        for i in range(len(fitness)-1):\n",
    "            fitness[i+1]=fitness[i]+fitness[i+1]\n",
    "        cdf_sum=int(fitness[len(ppl)-1]) \n",
    "        \n",
    "        c_ppl=[]\n",
    "        \n",
    "        for times in range(len(ppl)):\n",
    "            \n",
    "            if np.random.rand() < c_rate:\n",
    "                # index selected i and j\n",
    "                k=cdf_sum*np.random.rand()\n",
    "                i=np.searchsorted(fitness,k,side='right')-1\n",
    "                k=cdf_sum*np.random.rand()\n",
    "                j=np.searchsorted(fitness,k,side='right')-1\n",
    "\n",
    "                # crossover them and generate 2 new samples add them to crossover set\n",
    "                #crossover points\n",
    "                p=np.random.randint(length)\n",
    "                q=p+np.random.randint(length-p)\n",
    "                \"\"\"print('crossing ', ppl[i], ' and ' ,ppl[j],'with',p,'and',q)\"\"\"\n",
    "                si=set(ppl[i][p:q+1])\n",
    "                sj=set(ppl[j][p:q+1])\n",
    "\n",
    "                ci=[]\n",
    "                cj=[]\n",
    "                for t in range(length-q+p-1):\n",
    "                    ki=int(ppl[i][(t+q+1)%length])\n",
    "                    kj=int(ppl[j][(t+q+1)%length])\n",
    "                    if ki not in sj:\n",
    "                        ci.append(ki)\n",
    "                    if kj not in si:\n",
    "                        cj.append(kj)\n",
    "\n",
    "                for t in range(q-p+1):\n",
    "                    ci.append(int(ppl[j][t+p]))\n",
    "                    cj.append(int(ppl[i][t+p]))\n",
    "                    \n",
    "                \n",
    "                #if length is less than length\n",
    "                t=0\n",
    "                while len(ci) < length:\n",
    "                    if int(ppl[j][(t+q+1)%length]) not in ci:\n",
    "                        ci.append(int(ppl[j][(t+q+1)%length]))\n",
    "                    t+=1\n",
    "                    \n",
    "                t=0\n",
    "                while len(cj) < length:\n",
    "                    if int(ppl[i][(t+q+1)%length]) not in cj:\n",
    "                        cj.append(int(ppl[i][(t+q+1)%length]))\n",
    "                    t+=1\n",
    "                    \n",
    "                    \n",
    "                #rotating lists \n",
    "                ci = ci[length-q-1:] + ci[:length-q-1]\n",
    "                cj = cj[length-q-1:] + cj[:length-q-1]\n",
    "                \n",
    "                c_ppl.append(ci)\n",
    "                c_ppl.append(cj)\n",
    "                \"\"\"print('result ', ci, ' and ' ,cj)\n",
    "                print('_________________________')\"\"\"\n",
    "                # repeat\n",
    "        \n",
    "    # return the crossover set\n",
    "        return c_ppl\n",
    "                \n",
    "        \n",
    "        \n",
    "    def set_ppl(self,size):\n",
    "        self.ppl_set=[]\n",
    "        for i in range(self.n - 1):\n",
    "            self.ppl_set.append(self.gen_ppl(size,i+2))\n",
    "            \n",
    "            \n",
    "            \n",
    "            \n",
    "            \n",
    "    def set_ppl_fitness(self,fitness=None):\n",
    "        self.ppl_fitness_set=[]\n",
    "        for i in range(self.n - 1):\n",
    "            self.ppl_fitness_set.append(self.eval_fitness(self.ppl_set[i],fitness=fitness))\n",
    "    \n",
    "    \n",
    "    \n",
    "    \n",
    "    \n",
    "    def sort_ppl(self,ppl,fit):\n",
    "        return [ppl for fit, ppl in sorted(zip(fit, ppl))]\n",
    "            \n",
    "        \n",
    "        \n",
    "        \n",
    "    def sort_select(self, ppl , fit ,s_rate=0.5):\n",
    "        N=int(s_rate*len(ppl))\n",
    "        selected_ppl = self.sort_ppl(ppl,fit)\n",
    "        return selected_ppl[-N:]\n",
    "    \n",
    "    \n",
    "    \n",
    "    \n",
    "    \n",
    "    def ppl_sort_select(self,s_rate=0.5):\n",
    "        for i in range(len(self.ppl_set)):\n",
    "            self.ppl_set[i] = self.sort_select(self.ppl_set[i],self.ppl_fitness_set[i],s_rate=s_rate)\n",
    "            \n",
    "            \n",
    "            \n",
    "            \n",
    "            \n",
    "    def ppl_crossover_set(self,c_rate):\n",
    "        self.crossover_set=[]\n",
    "        for i in range(len(self.ppl_set)):\n",
    "            self.crossover_set.append(self.crossover(self.ppl_set[i],c_rate=c_rate))\n",
    "            \n",
    "            \n",
    "            \n",
    "            \n",
    "    def ppl_mutate(self,m_rate):\n",
    "        for i in range(len(self.ppl_set)):\n",
    "            self.mutate(self.ppl_set[i],m_rate=m_rate)\n",
    "            \n",
    "            \n",
    "            \n",
    "            \n",
    "    def run(self,size,epoch,c_rate=0.5,s_rate=0.7,m_rate=0.2,fitness=None):\n",
    "        \n",
    "        self.set_ppl(size)\n",
    "        while epoch > 0:\n",
    "            self.ppl_crossover_set(c_rate)\n",
    "            for i in range(len(self.ppl_set)):\n",
    "                self.ppl_set[i]+=self.crossover_set[i]\n",
    "            self.ppl_mutate(m_rate)\n",
    "            self.set_ppl_fitness(fitness=fitness)\n",
    "            self.ppl_sort_select(s_rate)\n",
    "            epoch-=1\n",
    "            #print(epoch)\n",
    "        self.set_ppl_fitness(fitness=fitness)"
   ]
  },
  {
   "cell_type": "code",
   "execution_count": 287,
   "metadata": {},
   "outputs": [],
   "source": [
    "t=TSP_fullyconnected()"
   ]
  },
  {
   "cell_type": "code",
   "execution_count": 288,
   "metadata": {},
   "outputs": [],
   "source": [
    "t.graph(np.random.rand(10,10))"
   ]
  },
  {
   "cell_type": "code",
   "execution_count": 289,
   "metadata": {},
   "outputs": [],
   "source": [
    "t.run(20,20,0.5,0.5,0.2)"
   ]
  },
  {
   "cell_type": "code",
   "execution_count": 290,
   "metadata": {},
   "outputs": [
    {
     "data": {
      "text/plain": [
       "array([[0.47342745, 0.81661269, 0.14782578, 0.28932129, 0.69745991,\n",
       "        0.13805594, 0.50110483, 0.55222498, 0.15817598, 0.42100591],\n",
       "       [0.40429363, 0.55503767, 0.24990153, 0.71443121, 0.51349631,\n",
       "        0.72875756, 0.52199426, 0.3212214 , 0.06613057, 0.07162554],\n",
       "       [0.26000906, 0.6842484 , 0.21502234, 0.60822058, 0.8473643 ,\n",
       "        0.17758873, 0.23245007, 0.60691376, 0.65480433, 0.86333854],\n",
       "       [0.95095242, 0.78040898, 0.31637479, 0.54150985, 0.43567385,\n",
       "        0.40250476, 0.66065487, 0.52922398, 0.39481225, 0.10911927],\n",
       "       [0.51260112, 0.47234751, 0.60397957, 0.1363313 , 0.26467887,\n",
       "        0.1974533 , 0.58738586, 0.46998053, 0.65884572, 0.48905699],\n",
       "       [0.33698805, 0.29422878, 0.66457978, 0.31304949, 0.51447102,\n",
       "        0.32662591, 0.59054141, 0.61755094, 0.47082974, 0.832878  ],\n",
       "       [0.35640622, 0.54447769, 0.01763574, 0.56927731, 0.6984324 ,\n",
       "        0.62507068, 0.09201729, 0.45750051, 0.00496212, 0.29869569],\n",
       "       [0.3757064 , 0.67248409, 0.02565751, 0.18017665, 0.38575917,\n",
       "        0.07592663, 0.89273699, 0.03847404, 0.90644535, 0.92324238],\n",
       "       [0.24890079, 0.86069163, 0.72985339, 0.89056885, 0.81897667,\n",
       "        0.57662929, 0.67433207, 0.18733467, 0.93517312, 0.51926721],\n",
       "       [0.27710036, 0.94676855, 0.9706282 , 0.37617233, 0.81572981,\n",
       "        0.74587249, 0.32794782, 0.23846211, 0.10368211, 0.01221117]])"
      ]
     },
     "execution_count": 290,
     "metadata": {},
     "output_type": "execute_result"
    }
   ],
   "source": [
    "t.W"
   ]
  },
  {
   "cell_type": "markdown",
   "metadata": {},
   "source": [
    "below we can see final results"
   ]
  },
  {
   "cell_type": "code",
   "execution_count": 293,
   "metadata": {},
   "outputs": [
    {
     "data": {
      "text/plain": [
       "([[6, 8], [6, 8], [6, 8], [6, 8], [6, 8], [6, 8], [6, 8]],\n",
       " [0.49753118857044987,\n",
       "  0.49753118857044987,\n",
       "  0.49753118857044987,\n",
       "  0.49753118857044987,\n",
       "  0.49753118857044987,\n",
       "  0.49753118857044987,\n",
       "  0.49753118857044987])"
      ]
     },
     "execution_count": 293,
     "metadata": {},
     "output_type": "execute_result"
    }
   ],
   "source": [
    "(t.ppl_set[0],t.ppl_fitness_set[0])"
   ]
  },
  {
   "cell_type": "code",
   "execution_count": 184,
   "metadata": {},
   "outputs": [
    {
     "data": {
      "text/plain": [
       "[[9, 8, 7, 3, 2],\n",
       " [7, 5, 0, 4, 9],\n",
       " [5, 8, 2, 6, 7],\n",
       " [3, 0, 9, 8, 7],\n",
       " [7, 0, 3, 9, 8],\n",
       " [8, 1, 7, 4, 6],\n",
       " [2, 5, 0, 3, 6],\n",
       " [3, 2, 1, 7, 8],\n",
       " [4, 9, 2, 6, 0],\n",
       " [4, 3, 7, 0, 1]]"
      ]
     },
     "execution_count": 184,
     "metadata": {},
     "output_type": "execute_result"
    }
   ],
   "source": [
    "ppl=t.gen_ppl(10,5)\n",
    "ppl"
   ]
  },
  {
   "cell_type": "code",
   "execution_count": 185,
   "metadata": {},
   "outputs": [
    {
     "data": {
      "text/plain": [
       "[[7, 5, 0, 3, 6],\n",
       " [2, 5, 0, 4, 9],\n",
       " [4, 3, 8, 7, 0],\n",
       " [3, 9, 0, 1, 4],\n",
       " [9, 8, 7, 3, 6],\n",
       " [5, 0, 3, 2, 9],\n",
       " [7, 1, 0, 4, 9],\n",
       " [8, 5, 7, 4, 6]]"
      ]
     },
     "execution_count": 185,
     "metadata": {},
     "output_type": "execute_result"
    }
   ],
   "source": [
    "t.crossover(ppl,0.5)"
   ]
  },
  {
   "cell_type": "code",
   "execution_count": 186,
   "metadata": {},
   "outputs": [
    {
     "data": {
      "text/plain": [
       "[[9, 8, 7, 3, 2],\n",
       " [7, 5, 0, 4, 9],\n",
       " [5, 8, 2, 6, 7],\n",
       " [1, 0, 9, 8, 7],\n",
       " [7, 0, 3, 9, 4],\n",
       " [8, 1, 7, 4, 6],\n",
       " [2, 5, 0, 3, 6],\n",
       " [4, 2, 1, 7, 8],\n",
       " [4, 9, 2, 6, 0],\n",
       " [4, 3, 7, 2, 1]]"
      ]
     },
     "execution_count": 186,
     "metadata": {},
     "output_type": "execute_result"
    }
   ],
   "source": [
    "t.mutate(ppl,0.5)\n",
    "ppl"
   ]
  },
  {
   "cell_type": "code",
   "execution_count": 240,
   "metadata": {},
   "outputs": [
    {
     "data": {
      "text/plain": [
       "20"
      ]
     },
     "execution_count": 240,
     "metadata": {},
     "output_type": "execute_result"
    }
   ],
   "source": [
    "epoch"
   ]
  },
  {
   "cell_type": "code",
   "execution_count": 245,
   "metadata": {},
   "outputs": [],
   "source": [
    "t.set_ppl(20)"
   ]
  },
  {
   "cell_type": "code",
   "execution_count": 238,
   "metadata": {},
   "outputs": [
    {
     "data": {
      "text/plain": [
       "[[[3, 1],\n",
       "  [6, 9],\n",
       "  [0, 9],\n",
       "  [3, 2],\n",
       "  [7, 3],\n",
       "  [0, 3],\n",
       "  [6, 5],\n",
       "  [5, 9],\n",
       "  [6, 3],\n",
       "  [9, 3],\n",
       "  [9, 0],\n",
       "  [3, 6],\n",
       "  [7, 9],\n",
       "  [8, 3],\n",
       "  [0, 1],\n",
       "  [2, 0],\n",
       "  [3, 8],\n",
       "  [6, 7],\n",
       "  [1, 8],\n",
       "  [0, 2]],\n",
       " [[1, 8, 3],\n",
       "  [8, 0, 5],\n",
       "  [4, 5, 8],\n",
       "  [6, 5, 3],\n",
       "  [4, 9, 7],\n",
       "  [6, 8, 4],\n",
       "  [5, 2, 7],\n",
       "  [8, 3, 7],\n",
       "  [5, 0, 4],\n",
       "  [1, 5, 9],\n",
       "  [7, 4, 3],\n",
       "  [7, 8, 9],\n",
       "  [2, 1, 6],\n",
       "  [9, 8, 5],\n",
       "  [3, 4, 8],\n",
       "  [4, 6, 8],\n",
       "  [4, 3, 2],\n",
       "  [1, 8, 6],\n",
       "  [6, 0, 2],\n",
       "  [1, 3, 8]],\n",
       " [[4, 1, 2, 7],\n",
       "  [2, 1, 4, 8],\n",
       "  [1, 5, 0, 6],\n",
       "  [2, 7, 8, 5],\n",
       "  [4, 0, 5, 7],\n",
       "  [9, 8, 5, 3],\n",
       "  [1, 2, 7, 3],\n",
       "  [2, 5, 0, 9],\n",
       "  [8, 6, 3, 7],\n",
       "  [6, 1, 8, 2],\n",
       "  [2, 0, 3, 8],\n",
       "  [2, 9, 7, 6],\n",
       "  [7, 3, 6, 8],\n",
       "  [5, 7, 3, 6],\n",
       "  [6, 5, 0, 3],\n",
       "  [8, 0, 4, 5],\n",
       "  [6, 4, 8, 9],\n",
       "  [4, 1, 8, 3],\n",
       "  [1, 2, 0, 7],\n",
       "  [1, 2, 6, 4]],\n",
       " [[5, 4, 1, 3, 2],\n",
       "  [2, 1, 9, 6, 0],\n",
       "  [3, 9, 1, 7, 2],\n",
       "  [9, 8, 0, 5, 4],\n",
       "  [1, 5, 3, 2, 0],\n",
       "  [4, 9, 1, 3, 8],\n",
       "  [1, 8, 4, 3, 7],\n",
       "  [1, 0, 3, 8, 9],\n",
       "  [8, 0, 3, 5, 2],\n",
       "  [1, 0, 9, 2, 8],\n",
       "  [2, 7, 1, 9, 6],\n",
       "  [6, 9, 4, 2, 1],\n",
       "  [8, 5, 1, 2, 3],\n",
       "  [3, 1, 8, 9, 5],\n",
       "  [1, 5, 6, 9, 3],\n",
       "  [3, 1, 6, 7, 8],\n",
       "  [3, 5, 1, 8, 6],\n",
       "  [8, 0, 7, 1, 5],\n",
       "  [0, 3, 4, 6, 9],\n",
       "  [5, 7, 1, 6, 3]],\n",
       " [[7, 0, 2, 9, 6, 4],\n",
       "  [8, 1, 4, 7, 6, 2],\n",
       "  [9, 1, 2, 5, 4, 8],\n",
       "  [0, 8, 4, 7, 9, 2],\n",
       "  [7, 3, 2, 1, 5, 6],\n",
       "  [3, 7, 5, 0, 2, 4],\n",
       "  [7, 3, 4, 6, 1, 0],\n",
       "  [7, 4, 0, 2, 9, 8],\n",
       "  [8, 5, 1, 2, 9, 7],\n",
       "  [7, 6, 0, 4, 1, 2],\n",
       "  [9, 3, 4, 5, 1, 2],\n",
       "  [6, 4, 8, 7, 2, 1],\n",
       "  [5, 6, 2, 7, 3, 9],\n",
       "  [6, 5, 0, 2, 1, 8],\n",
       "  [2, 4, 1, 8, 0, 6],\n",
       "  [7, 3, 1, 6, 0, 9],\n",
       "  [6, 9, 7, 5, 0, 3],\n",
       "  [2, 8, 7, 1, 6, 3],\n",
       "  [7, 0, 5, 6, 8, 2],\n",
       "  [2, 7, 3, 9, 8, 6]],\n",
       " [[0, 5, 2, 1, 4, 8, 3],\n",
       "  [2, 0, 6, 4, 7, 1, 5],\n",
       "  [4, 5, 3, 0, 2, 8, 7],\n",
       "  [3, 9, 8, 2, 4, 6, 7],\n",
       "  [8, 2, 1, 6, 3, 4, 9],\n",
       "  [9, 5, 7, 8, 2, 6, 3],\n",
       "  [1, 5, 9, 0, 2, 3, 7],\n",
       "  [0, 8, 5, 6, 7, 4, 3],\n",
       "  [2, 1, 5, 8, 3, 7, 9],\n",
       "  [3, 4, 7, 9, 2, 8, 6],\n",
       "  [6, 3, 9, 2, 4, 5, 7],\n",
       "  [7, 1, 3, 8, 2, 9, 0],\n",
       "  [2, 5, 4, 9, 3, 1, 8],\n",
       "  [0, 9, 7, 8, 6, 3, 4],\n",
       "  [7, 3, 6, 5, 9, 0, 1],\n",
       "  [5, 8, 4, 7, 1, 3, 9],\n",
       "  [2, 8, 6, 5, 4, 9, 0],\n",
       "  [5, 9, 4, 0, 8, 2, 7],\n",
       "  [7, 2, 4, 9, 6, 0, 1],\n",
       "  [4, 1, 5, 6, 3, 7, 9]],\n",
       " [[0, 3, 1, 4, 8, 5, 7, 6],\n",
       "  [7, 5, 9, 4, 6, 0, 3, 8],\n",
       "  [5, 8, 7, 1, 6, 4, 9, 0],\n",
       "  [0, 6, 2, 9, 5, 3, 8, 4],\n",
       "  [3, 6, 7, 5, 0, 1, 2, 9],\n",
       "  [6, 3, 1, 5, 9, 8, 2, 4],\n",
       "  [5, 8, 9, 2, 0, 1, 3, 6],\n",
       "  [5, 7, 9, 3, 8, 1, 6, 4],\n",
       "  [7, 1, 5, 3, 9, 2, 6, 4],\n",
       "  [8, 6, 3, 7, 2, 0, 1, 4],\n",
       "  [5, 4, 7, 3, 6, 1, 9, 2],\n",
       "  [4, 1, 8, 0, 7, 2, 9, 6],\n",
       "  [2, 9, 6, 5, 1, 0, 4, 7],\n",
       "  [9, 0, 4, 5, 8, 3, 7, 2],\n",
       "  [6, 7, 3, 5, 2, 0, 9, 4],\n",
       "  [1, 3, 5, 9, 6, 4, 7, 8],\n",
       "  [9, 4, 1, 3, 6, 8, 7, 0],\n",
       "  [1, 0, 8, 6, 4, 3, 7, 2],\n",
       "  [1, 3, 2, 6, 7, 8, 5, 0],\n",
       "  [5, 6, 1, 0, 7, 4, 2, 9]],\n",
       " [[4, 1, 6, 9, 3, 7, 5, 2, 0],\n",
       "  [4, 6, 8, 1, 3, 9, 2, 5, 0],\n",
       "  [3, 9, 7, 2, 1, 4, 6, 8, 5],\n",
       "  [0, 7, 8, 3, 4, 2, 1, 6, 9],\n",
       "  [0, 7, 2, 6, 1, 3, 5, 9, 8],\n",
       "  [3, 7, 5, 6, 4, 2, 9, 0, 8],\n",
       "  [5, 0, 9, 3, 1, 8, 7, 2, 6],\n",
       "  [1, 5, 9, 3, 6, 8, 2, 7, 0],\n",
       "  [3, 1, 0, 6, 9, 8, 7, 2, 5],\n",
       "  [3, 7, 9, 8, 4, 6, 2, 5, 1],\n",
       "  [8, 9, 4, 2, 6, 3, 5, 7, 1],\n",
       "  [3, 4, 0, 7, 6, 2, 5, 8, 1],\n",
       "  [3, 9, 6, 4, 7, 8, 1, 2, 5],\n",
       "  [3, 0, 9, 1, 2, 8, 5, 6, 4],\n",
       "  [6, 5, 1, 2, 9, 3, 8, 4, 0],\n",
       "  [9, 8, 2, 7, 0, 6, 1, 4, 5],\n",
       "  [3, 9, 5, 0, 8, 2, 4, 7, 1],\n",
       "  [4, 2, 1, 0, 9, 8, 3, 6, 5],\n",
       "  [2, 7, 4, 5, 8, 1, 0, 3, 9],\n",
       "  [7, 2, 3, 8, 6, 9, 4, 5, 0]],\n",
       " [[1, 6, 7, 2, 4, 3, 0, 8, 9, 5],\n",
       "  [7, 0, 6, 1, 3, 2, 5, 4, 9, 8],\n",
       "  [3, 8, 7, 2, 4, 1, 6, 5, 9, 0],\n",
       "  [7, 6, 2, 3, 4, 8, 1, 0, 9, 5],\n",
       "  [7, 0, 1, 9, 5, 8, 6, 4, 3, 2],\n",
       "  [7, 2, 5, 9, 3, 8, 1, 6, 4, 0],\n",
       "  [1, 8, 6, 7, 4, 2, 9, 3, 0, 5],\n",
       "  [2, 1, 3, 8, 0, 9, 5, 6, 4, 7],\n",
       "  [4, 6, 5, 1, 3, 2, 8, 7, 9, 0],\n",
       "  [2, 8, 1, 3, 6, 0, 5, 7, 4, 9],\n",
       "  [3, 2, 9, 8, 0, 5, 7, 6, 1, 4],\n",
       "  [5, 2, 4, 3, 1, 9, 6, 8, 0, 7],\n",
       "  [1, 9, 2, 5, 4, 7, 8, 3, 6, 0],\n",
       "  [2, 1, 8, 0, 9, 5, 6, 7, 4, 3],\n",
       "  [1, 5, 4, 8, 3, 0, 7, 9, 2, 6],\n",
       "  [5, 8, 1, 4, 6, 7, 0, 2, 3, 9],\n",
       "  [4, 1, 5, 3, 9, 2, 0, 8, 7, 6],\n",
       "  [1, 0, 9, 8, 7, 6, 2, 5, 4, 3],\n",
       "  [0, 2, 4, 9, 8, 1, 3, 6, 5, 7],\n",
       "  [5, 1, 0, 8, 7, 9, 2, 4, 3, 6]]]"
      ]
     },
     "execution_count": 238,
     "metadata": {},
     "output_type": "execute_result"
    }
   ],
   "source": [
    "t.ppl_set"
   ]
  },
  {
   "cell_type": "code",
   "execution_count": 236,
   "metadata": {},
   "outputs": [],
   "source": [
    "t.ppl_set[2]"
   ]
  },
  {
   "cell_type": "code",
   "execution_count": 189,
   "metadata": {},
   "outputs": [
    {
     "data": {
      "text/plain": [
       "[0.6245264187725623,\n",
       " 0.6424908369930832,\n",
       " 0.6384919235951028,\n",
       " 0.596244822508602,\n",
       " 0.7079346030634011]"
      ]
     },
     "execution_count": 189,
     "metadata": {},
     "output_type": "execute_result"
    }
   ],
   "source": [
    "t.eval_fitness(t.ppl_set[8])"
   ]
  },
  {
   "cell_type": "code",
   "execution_count": 190,
   "metadata": {},
   "outputs": [],
   "source": [
    "t.set_ppl_fitness()"
   ]
  },
  {
   "cell_type": "code",
   "execution_count": 162,
   "metadata": {},
   "outputs": [
    {
     "data": {
      "text/plain": [
       "[[7, 8, 1, 9, 0, 6, 4, 2, 5],\n",
       " [1, 7, 2, 8, 0, 3, 5, 9, 6],\n",
       " [2, 5, 9, 0, 7, 3, 8, 6, 4],\n",
       " [4, 8, 2, 0, 7, 3, 1, 6, 9],\n",
       " [1, 3, 8, 6, 2, 5, 4, 7, 0]]"
      ]
     },
     "execution_count": 162,
     "metadata": {},
     "output_type": "execute_result"
    }
   ],
   "source": [
    "t.ppl_set[7]"
   ]
  },
  {
   "cell_type": "code",
   "execution_count": 163,
   "metadata": {},
   "outputs": [
    {
     "data": {
      "text/plain": [
       "[0.6662532121124516,\n",
       " 0.7059503819510584,\n",
       " 0.6707400160910123,\n",
       " 0.5889032618001333,\n",
       " 0.6565248684061648]"
      ]
     },
     "execution_count": 163,
     "metadata": {},
     "output_type": "execute_result"
    }
   ],
   "source": [
    "t.ppl_fitness_set[7]"
   ]
  },
  {
   "cell_type": "code",
   "execution_count": 164,
   "metadata": {},
   "outputs": [
    {
     "data": {
      "text/plain": [
       "[[2, 5, 9, 0, 7, 3, 8, 6, 4], [1, 7, 2, 8, 0, 3, 5, 9, 6]]"
      ]
     },
     "execution_count": 164,
     "metadata": {},
     "output_type": "execute_result"
    }
   ],
   "source": [
    "t.sort_select( t.ppl_set[7] , t.ppl_fitness_set[7] )"
   ]
  },
  {
   "cell_type": "code",
   "execution_count": 191,
   "metadata": {},
   "outputs": [],
   "source": [
    "t.ppl_crossover_set(0.5)"
   ]
  },
  {
   "cell_type": "code",
   "execution_count": 198,
   "metadata": {},
   "outputs": [
    {
     "data": {
      "text/plain": [
       "[[7, 9, 4, 6, 0, 1, 3],\n",
       " [5, 3, 0, 4, 9, 8, 7],\n",
       " [7, 1, 4, 2, 9, 8, 3],\n",
       " [1, 3, 7, 4, 6, 0, 2],\n",
       " [7, 4, 3, 6, 1, 5, 0],\n",
       " [7, 5, 4, 2, 8, 6, 0]]"
      ]
     },
     "execution_count": 198,
     "metadata": {},
     "output_type": "execute_result"
    }
   ],
   "source": []
  },
  {
   "cell_type": "code",
   "execution_count": 317,
   "metadata": {},
   "outputs": [
    {
     "data": {
      "text/plain": [
       "[]"
      ]
     },
     "execution_count": 317,
     "metadata": {},
     "output_type": "execute_result"
    }
   ],
   "source": [
    "list((set(np.arange(9))-set(np.arange(9))))"
   ]
  },
  {
   "cell_type": "code",
   "execution_count": 189,
   "metadata": {},
   "outputs": [],
   "source": [
    "class schemas:\n",
    "    \n",
    "    def convert_to_adj_list(self):\n",
    "        A=self.A\n",
    "        n=self.graph_size\n",
    "        W= self.weight\n",
    "        adj={}\n",
    "        for i in range(n):\n",
    "            adj[i]={}\n",
    "            for j in range(n):\n",
    "                if A[i,j] : adj[i][j] = W[i,j]\n",
    "        self.adj=adj\n",
    "                    \n",
    "            \n",
    "    def graph(self,A,W=None):\n",
    "        self.A=A\n",
    "        self.graph_size=A.shape[0]\n",
    "        if W is None: W=np.zeros(A.shape)+1\n",
    "        self.weight=W\n",
    "        \n",
    "        \n",
    "    def specify(self,count,max_length):\n",
    "        self.count=count\n",
    "        self.max_length = max_length\n",
    "        \n",
    "    def set_ppl_size(self,ppl_size):\n",
    "        self.ppl_size=ppl_size\n",
    "        \n",
    "    def set_target_source(self,t,s):\n",
    "        self.target = t\n",
    "        self.source = s\n",
    "    \n",
    "        \n",
    "    def generate_ppl(self):\n",
    "        \n",
    "        self.ppl=[]\n",
    "        def get_schema():\n",
    "            # random number as length of schema max\n",
    "            m=int(1+np.random.randint(self.max_length,size=1))\n",
    "            adj=self.adj\n",
    "            s=[]\n",
    "            \n",
    "            # starting point of schema\n",
    "            k=int(np.random.randint(self.graph_size,size=1))\n",
    "            while len(list(adj[k].keys())) is 0: k=int(np.random.randint(self.graph_size,size=1))\n",
    "            # while there is way to from to other from the starting point \n",
    "            \n",
    "            s=[k]\n",
    "            \n",
    "            last=k\n",
    "            for i in range(m):\n",
    "                \n",
    "                #generate new node to go which is adjecent to the new currently on\n",
    "                j=int(list(adj[k].keys())[int(np.random.randint(len(list(adj[k].keys())),size=1))])\n",
    "                while j is last:j=int(list(adj[k].keys())[int(np.random.randint(len(list(adj[k].keys())),size=1))])\n",
    "                # do untill this new node is different from the last visited node\n",
    "                s.append(j)\n",
    "                \n",
    "                #break if reached pendent node\n",
    "                if len(list(adj[j].keys())) < 2 :break\n",
    "                \n",
    "                last=k\n",
    "                k=j\n",
    "            #print(s)\n",
    "            return s\n",
    "        \n",
    "        for i in range(self.ppl_size):\n",
    "            temp=get_schema()\n",
    "            self.ppl.append(temp)\n",
    "            \n",
    "    def remove_duplicate(self):\n",
    "        x=self.ppl\n",
    "        y=[]\n",
    "        for i in x:\n",
    "            if i not in y:\n",
    "                y.append(i)\n",
    "\n",
    "        self.ppl = y\n",
    "            \n",
    "    def eval_fitness(self):\n",
    "        fit=[]\n",
    "        for s in self.ppl:\n",
    "            n=len(s)\n",
    "            \n",
    "            #fitness function\n",
    "            w=0\n",
    "            for i in range(n-1): \n",
    "                w+=1/(1+F.weight[s[i]][s[i+1]])\n",
    "            w/=n\n",
    "            fit.append(w)\n",
    "        self.fitness = fit\n",
    "        \n",
    "        \n",
    "    def mutate(self,m_rate):\n",
    "        \n",
    "        for s in range(len(self.ppl)):\n",
    "            if np.random.rand() < m_rate:\n",
    "                \n",
    "                l = len(self.ppl[s])\n",
    "                k = np.random.randint(l)\n",
    "                \n",
    "                if k is 0:\n",
    "                    p = np.random.randint(sum(self.A[1]))\n",
    "                    i=0\n",
    "                    while p > 0 and i < self.graph_size:\n",
    "                        if self.A[1][i] is 1:\n",
    "                            p-=1\n",
    "                        i+=1\n",
    "                    self.ppl[s][0]=i\n",
    "                        \n",
    "                if k is l-1:\n",
    "                    p = np.random.randint(sum(self.A[l-2]))\n",
    "                    i=0\n",
    "                    while p > 0 and i < self.graph_size:\n",
    "                        if self.A[l-2][i] is 1:\n",
    "                            p-=1\n",
    "                        i+=1\n",
    "                    self.ppl[s][l-1]=i\n",
    "                \n",
    "                if k > 0 and k < l-1:\n",
    "                    D = self.A[k-1]*self.A[k+1]\n",
    "                    p = np.random.randint(sum(D))\n",
    "                    i=0\n",
    "                    while p > 0 and i < self.graph_size:\n",
    "                        if D[i] is 1:\n",
    "                            p-=1\n",
    "                        i+=1\n",
    "                    self.ppl[s][k]=i\n",
    "                    "
   ]
  },
  {
   "cell_type": "code",
   "execution_count": 190,
   "metadata": {},
   "outputs": [
    {
     "data": {
      "text/plain": [
       "0"
      ]
     },
     "execution_count": 190,
     "metadata": {},
     "output_type": "execute_result"
    }
   ],
   "source": [
    "np.random.randint(1)"
   ]
  },
  {
   "cell_type": "code",
   "execution_count": 191,
   "metadata": {},
   "outputs": [
    {
     "data": {
      "text/plain": [
       "array([0, 1, 0, 1, 1])"
      ]
     },
     "execution_count": 191,
     "metadata": {},
     "output_type": "execute_result"
    }
   ],
   "source": [
    "F.A[0]*F.A[2]"
   ]
  },
  {
   "cell_type": "code",
   "execution_count": 192,
   "metadata": {},
   "outputs": [],
   "source": [
    "F=schemas()"
   ]
  },
  {
   "cell_type": "code",
   "execution_count": 193,
   "metadata": {},
   "outputs": [],
   "source": [
    "F.specify(20,4)"
   ]
  },
  {
   "cell_type": "code",
   "execution_count": 194,
   "metadata": {},
   "outputs": [],
   "source": [
    "F.graph(A=np.array([[0,1,1,1,1],[1,0,1,1,1],[1,1,0,1,1],[1,1,1,0,1],[1,1,1,1,0]]),W=np.array([[0,5,3,2,3],[4,7,0,0,5],[7,8,0,0,4],[4,8,8,5,9],[7,8,0,0,4]]))"
   ]
  },
  {
   "cell_type": "code",
   "execution_count": 195,
   "metadata": {},
   "outputs": [],
   "source": [
    "F.convert_to_adj_list()"
   ]
  },
  {
   "cell_type": "code",
   "execution_count": 196,
   "metadata": {},
   "outputs": [
    {
     "data": {
      "text/plain": [
       "[0, 1, 2, 4]"
      ]
     },
     "execution_count": 196,
     "metadata": {},
     "output_type": "execute_result"
    }
   ],
   "source": [
    "list(F.adj[3].keys())"
   ]
  },
  {
   "cell_type": "code",
   "execution_count": 197,
   "metadata": {},
   "outputs": [],
   "source": [
    "F.set_ppl_size(100)"
   ]
  },
  {
   "cell_type": "code",
   "execution_count": 198,
   "metadata": {},
   "outputs": [
    {
     "data": {
      "text/plain": [
       "3"
      ]
     },
     "execution_count": 198,
     "metadata": {},
     "output_type": "execute_result"
    }
   ],
   "source": [
    "F.set_target_source(3,2)\n",
    "F.target\n",
    "#F.source"
   ]
  },
  {
   "cell_type": "code",
   "execution_count": 205,
   "metadata": {},
   "outputs": [
    {
     "data": {
      "text/plain": [
       "90"
      ]
     },
     "execution_count": 205,
     "metadata": {},
     "output_type": "execute_result"
    }
   ],
   "source": [
    "F.generate_ppl()\n",
    "F.remove_duplicate()\n",
    "len(F.ppl)"
   ]
  },
  {
   "cell_type": "code",
   "execution_count": 207,
   "metadata": {},
   "outputs": [],
   "source": [
    "F.mutate(0.1)"
   ]
  },
  {
   "cell_type": "code",
   "execution_count": 432,
   "metadata": {},
   "outputs": [],
   "source": [
    "#import inspect"
   ]
  },
  {
   "cell_type": "code",
   "execution_count": 429,
   "metadata": {},
   "outputs": [],
   "source": [
    "#inspect.ismethod(np.random.rand)"
   ]
  },
  {
   "cell_type": "code",
   "execution_count": 430,
   "metadata": {},
   "outputs": [],
   "source": [
    "#inspect.getmembers(inspect)"
   ]
  },
  {
   "cell_type": "code",
   "execution_count": 431,
   "metadata": {},
   "outputs": [],
   "source": [
    "#dir(inspect)"
   ]
  }
 ],
 "metadata": {
  "kernelspec": {
   "display_name": "Python 3",
   "language": "python",
   "name": "python3"
  },
  "language_info": {
   "codemirror_mode": {
    "name": "ipython",
    "version": 3
   },
   "file_extension": ".py",
   "mimetype": "text/x-python",
   "name": "python",
   "nbconvert_exporter": "python",
   "pygments_lexer": "ipython3",
   "version": "3.7.3"
  }
 },
 "nbformat": 4,
 "nbformat_minor": 2
}
